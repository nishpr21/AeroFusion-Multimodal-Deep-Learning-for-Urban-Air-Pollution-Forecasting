{
  "nbformat": 4,
  "nbformat_minor": 0,
  "metadata": {
    "colab": {
      "provenance": []
    },
    "kernelspec": {
      "name": "python3",
      "display_name": "Python 3"
    },
    "language_info": {
      "name": "python"
    }
  },
  "cells": [
    {
      "cell_type": "code",
      "execution_count": 12,
      "metadata": {
        "id": "e44r6UlYRoBb"
      },
      "outputs": [],
      "source": [
        "import pandas as pd\n",
        "import numpy as np\n",
        "from sklearn.preprocessing import MinMaxScaler"
      ]
    },
    {
      "cell_type": "code",
      "source": [
        "df = pd.read_csv(\"/content/final_dataset.csv\")\n",
        "print(\"Columns:\", df.columns)\n"
      ],
      "metadata": {
        "colab": {
          "base_uri": "https://localhost:8080/"
        },
        "id": "oXHrCHLdSQQ4",
        "outputId": "f858ca77-59a8-46d3-a9dc-1cfdd8182a9f"
      },
      "execution_count": 13,
      "outputs": [
        {
          "output_type": "stream",
          "name": "stdout",
          "text": [
            "Columns: Index(['Date', 'Month', 'Year', 'Holidays_Count', 'Days', 'PM2.5', 'PM10',\n",
            "       'NO2', 'SO2', 'CO', 'Ozone', 'AQI'],\n",
            "      dtype='object')\n"
          ]
        }
      ]
    },
    {
      "cell_type": "code",
      "source": [
        "df['Date'] = pd.to_datetime(df['Date'])\n",
        "df = df.sort_values('Date')\n"
      ],
      "metadata": {
        "id": "Ttz-4Bq-ScvR"
      },
      "execution_count": 14,
      "outputs": []
    },
    {
      "cell_type": "code",
      "source": [
        "features = ['PM2.5', 'PM10', 'NO2', 'SO2', 'CO', 'Ozone']\n",
        "extra_features = ['Month', 'Year', 'Holidays_Count', 'Days']\n",
        "\n",
        "features = [f for f in features if f in df.columns]\n",
        "extra_features = [f for f in extra_features if f in df.columns]\n",
        "\n",
        "target = 'AQI'\n",
        "\n",
        "df = df[['Date'] + features + extra_features + [target]]\n",
        "print(\"Using features:\", features + extra_features)\n",
        "print(\"Target:\", target)"
      ],
      "metadata": {
        "colab": {
          "base_uri": "https://localhost:8080/"
        },
        "id": "bh_v9CuSSdn5",
        "outputId": "a16dfe44-d45f-4bb3-a151-66830701dab5"
      },
      "execution_count": 15,
      "outputs": [
        {
          "output_type": "stream",
          "name": "stdout",
          "text": [
            "Using features: ['PM2.5', 'PM10', 'NO2', 'SO2', 'CO', 'Ozone', 'Month', 'Year', 'Holidays_Count', 'Days']\n",
            "Target: AQI\n"
          ]
        }
      ]
    },
    {
      "cell_type": "code",
      "source": [
        "df = df.fillna(method='ffill').fillna(method='bfill')\n"
      ],
      "metadata": {
        "colab": {
          "base_uri": "https://localhost:8080/"
        },
        "id": "drSBZcekTRWb",
        "outputId": "c5d14b27-42eb-42f2-fac3-592457f434b3"
      },
      "execution_count": 16,
      "outputs": [
        {
          "output_type": "stream",
          "name": "stderr",
          "text": [
            "/tmp/ipython-input-1140751661.py:1: FutureWarning: DataFrame.fillna with 'method' is deprecated and will raise in a future version. Use obj.ffill() or obj.bfill() instead.\n",
            "  df = df.fillna(method='ffill').fillna(method='bfill')\n"
          ]
        }
      ]
    },
    {
      "cell_type": "code",
      "source": [
        "scaler = MinMaxScaler()\n",
        "scaled = scaler.fit_transform(df[features + extra_features + [target]])\n",
        "df_scaled = pd.DataFrame(scaled, columns=features + extra_features + [target])\n",
        "df_scaled['Date'] = df['Date'].values"
      ],
      "metadata": {
        "id": "qafUYv7WTVMT"
      },
      "execution_count": 17,
      "outputs": []
    },
    {
      "cell_type": "code",
      "source": [
        "def make_sequences(data, lookback=7, horizon=1):\n",
        "    X, y = [], []\n",
        "    for i in range(len(data) - lookback - horizon + 1):\n",
        "        X.append(data[i:i+lookback, :-1])\n",
        "        y.append(data[i+lookback+horizon-1, -1])\n",
        "    return np.array(X), np.array(y)\n",
        "\n",
        "data = df_scaled[features + extra_features + [target]].values\n",
        "X, y = make_sequences(data, lookback=7, horizon=1)\n",
        "\n",
        "print(\"X shape:\", X.shape)\n",
        "print(\"y shape:\", y.shape)\n"
      ],
      "metadata": {
        "colab": {
          "base_uri": "https://localhost:8080/"
        },
        "id": "QGiTswJKTZc7",
        "outputId": "dbcf87dc-b9d5-4f11-d23a-44d23c7616c4"
      },
      "execution_count": 18,
      "outputs": [
        {
          "output_type": "stream",
          "name": "stdout",
          "text": [
            "X shape: (1454, 7, 10)\n",
            "y shape: (1454,)\n"
          ]
        }
      ]
    },
    {
      "cell_type": "code",
      "source": [
        "n = len(X)\n",
        "train_end = int(n * 0.7)\n",
        "val_end = int(n * 0.85)\n",
        "\n",
        "X_train, y_train = X[:train_end], y[:train_end]\n",
        "X_val, y_val = X[train_end:val_end], y[train_end:val_end]\n",
        "X_test, y_test = X[val_end:], y[val_end:]\n",
        "\n",
        "print(f\"Train: {X_train.shape}, Val: {X_val.shape}, Test: {X_test.shape}\")\n"
      ],
      "metadata": {
        "colab": {
          "base_uri": "https://localhost:8080/"
        },
        "id": "QFYLYoKOTdh3",
        "outputId": "58a1acd4-6d40-45cc-bb53-5543b3da2931"
      },
      "execution_count": 19,
      "outputs": [
        {
          "output_type": "stream",
          "name": "stdout",
          "text": [
            "Train: (1017, 7, 10), Val: (218, 7, 10), Test: (219, 7, 10)\n"
          ]
        }
      ]
    },
    {
      "cell_type": "code",
      "source": [
        "np.save(\"X_train.npy\", X_train)\n",
        "np.save(\"y_train.npy\", y_train)\n",
        "np.save(\"X_val.npy\", X_val)\n",
        "np.save(\"y_val.npy\", y_val)\n",
        "np.save(\"X_test.npy\", X_test)\n",
        "np.save(\"y_test.npy\", y_test)\n",
        "\n",
        "print(\"Preprocessing complete. Data saved as .npy files.\")"
      ],
      "metadata": {
        "colab": {
          "base_uri": "https://localhost:8080/"
        },
        "id": "4DXbh06mThnQ",
        "outputId": "ddacaa44-af9c-4f50-a7c3-795c498ba388"
      },
      "execution_count": 20,
      "outputs": [
        {
          "output_type": "stream",
          "name": "stdout",
          "text": [
            "Preprocessing complete. Data saved as .npy files.\n"
          ]
        }
      ]
    }
  ]
}