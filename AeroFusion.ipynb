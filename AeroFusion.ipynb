{
  "nbformat": 4,
  "nbformat_minor": 0,
  "metadata": {
    "colab": {
      "provenance": []
    },
    "kernelspec": {
      "name": "python3",
      "display_name": "Python 3"
    },
    "language_info": {
      "name": "python"
    }
  },
  "cells": [
    {
      "cell_type": "code",
      "execution_count": 1,
      "metadata": {
        "id": "e44r6UlYRoBb"
      },
      "outputs": [],
      "source": [
        "import pandas as pd\n",
        "import numpy as np\n",
        "from sklearn.preprocessing import MinMaxScaler"
      ]
    },
    {
      "cell_type": "code",
      "source": [
        "df = pd.read_csv(\"/content/final_dataset.csv\")   ,
        "print(\"Columns:\", df.columns)\n"
      ],
      "metadata": {
        "colab": {
          "base_uri": "https://localhost:8080/"
        },
        "id": "oXHrCHLdSQQ4",
        "outputId": "c0505bb5-2ca9-405a-a643-a9e237395feb"
      },
      "execution_count": 3,
      "outputs": [
        {
          "output_type": "stream",
          "name": "stdout",
          "text": [
            "Columns: Index(['Date', 'Month', 'Year', 'Holidays_Count', 'Days', 'PM2.5', 'PM10',\n",
            "       'NO2', 'SO2', 'CO', 'Ozone', 'AQI'],\n",
            "      dtype='object')\n"
          ]
        }
      ]
    },
    {
      "cell_type": "code",
      "source": [
        "df['Date'] = pd.to_datetime(df['Date'])\n",
        "df = df.sort_values('Date')\n"
      ],
      "metadata": {
        "id": "Ttz-4Bq-ScvR"
      },
      "execution_count": 4,
      "outputs": []
    },
    {
      "cell_type": "code",
      "source": [
        "features = ['PM2.5', 'PM10', 'NO2', 'SO2', 'CO', 'Ozone']\n",
        "extra_features = ['Month', 'Year', 'Holidays_Count', 'Days']  ,
        "\n",
        
        "features = [f for f in features if f in df.columns]\n",
        "extra_features = [f for f in extra_features if f in df.columns]\n",
        "\n",
        "target = 'AQI'   
        "\n",
        "df = df[['Date'] + features + extra_features + [target]]\n",
        "print(\"Using features:\", features + extra_features)\n",
        "print(\"Target:\", target)"
      ],
      "metadata": {
        "colab": {
          "base_uri": "https://localhost:8080/"
        },
        "id": "bh_v9CuSSdn5",
        "outputId": "cef777ec-ecd0-4242-b640-35ede812b437"
      },
      "execution_count": 6,
      "outputs": [
        {
          "output_type": "stream",
          "name": "stdout",
          "text": [
            "Using features: ['PM2.5', 'PM10', 'NO2', 'SO2', 'CO', 'Ozone', 'Month', 'Year', 'Holidays_Count', 'Days']\n",
            "Target: AQI\n"
          ]
        }
      ]
    },
    {
      "cell_type": "code",
      "source": [
        "df = df.fillna(method='ffill').fillna(method='bfill')\n"
      ],
      "metadata": {
        "colab": {
          "base_uri": "https://localhost:8080/"
        },
        "id": "drSBZcekTRWb",
        "outputId": "eadcf6b4-55c2-4c57-e9cc-3b88abb0baad"
      },
      "execution_count": 7,
      "outputs": [
        {
          "output_type": "stream",
          "name": "stderr",
          "text": [
            "/tmp/ipython-input-1140751661.py:1: FutureWarning: DataFrame.fillna with 'method' is deprecated and will raise in a future version. Use obj.ffill() or obj.bfill() instead.\n",
            "  df = df.fillna(method='ffill').fillna(method='bfill')\n"
          ]
        }
      ]
    },
    {
      "cell_type": "code",
      "source": [
        "scaler = MinMaxScaler()\n",
        "scaled = scaler.fit_transform(df[features + extra_features + [target]])\n",
        "df_scaled = pd.DataFrame(scaled, columns=features + extra_features + [target])\n",
        "df_scaled['Date'] = df['Date'].values"
      ],
      "metadata": {
        "id": "qafUYv7WTVMT"
      },
      "execution_count": 8,
      "outputs": []
    },
    {
      "cell_type": "code",
      "source": [
        "def make_sequences(data, lookback=7, horizon=1):\n",
        "    X, y = [], []\n",
        "    for i in range(len(data) - lookback - horizon + 1):\n",
        "        X.append(data[i:i+lookback, :-1])          ,
        "        y.append(data[i+lookback+horizon-1, -1])   ,
        "    return np.array(X), np.array(y)\n",
        "\n",
        "data = df_scaled[features + extra_features + [target]].values\n",
        "X, y = make_sequences(data, lookback=7, horizon=1)\n",
        "\n",
        "print(\"X shape:\", X.shape)  ,
        "print(\"y shape:\", y.shape)  
      ],
      "metadata": {
        "colab": {
          "base_uri": "https://localhost:8080/"
        },
        "id": "QGiTswJKTZc7",
        "outputId": "bce58cec-3f72-4ab6-a6f7-57a4f66b9c9c"
      },
      "execution_count": 9,
      "outputs": [
        {
          "output_type": "stream",
          "name": "stdout",
          "text": [
            "X shape: (1454, 7, 10)\n",
            "y shape: (1454,)\n"
          ]
        }
      ]
    },
    {
      "cell_type": "code",
      "source": [
        "n = len(X)\n",
        "train_end = int(n * 0.7)\n",
        "val_end = int(n * 0.85)\n",
        "\n",
        "X_train, y_train = X[:train_end], y[:train_end]\n",
        "X_val, y_val = X[train_end:val_end], y[train_end:val_end]\n",
        "X_test, y_test = X[val_end:], y[val_end:]\n",
        "\n",
        "print(f\"Train: {X_train.shape}, Val: {X_val.shape}, Test: {X_test.shape}\")\n"
      ],
      "metadata": {
        "colab": {
          "base_uri": "https://localhost:8080/"
        },
        "id": "QFYLYoKOTdh3",
        "outputId": "79a24b75-9b90-4073-9b29-aee92187b733"
      },
      "execution_count": 10,
      "outputs": [
        {
          "output_type": "stream",
          "name": "stdout",
          "text": [
            "Train: (1017, 7, 10), Val: (218, 7, 10), Test: (219, 7, 10)\n"
          ]
        }
      ]
    },
    {
      "cell_type": "code",
      "source": [
        "np.save(\"X_train.npy\", X_train)\n",
        "np.save(\"y_train.npy\", y_train)\n",
        "np.save(\"X_val.npy\", X_val)\n",
        "np.save(\"y_val.npy\", y_val)\n",
        "np.save(\"X_test.npy\", X_test)\n",
        "np.save(\"y_test.npy\", y_test)\n",
        "\n",
        "print(\"Preprocessing complete. Data saved as .npy files.\")"
      ],
      "metadata": {
        "colab": {
          "base_uri": "https://localhost:8080/"
        },
        "id": "4DXbh06mThnQ",
        "outputId": "d362f644-8a08-4baa-d2cb-0f65b09d042b"
      },
      "execution_count": 11,
      "outputs": [
        {
          "output_type": "stream",
          "name": "stdout",
          "text": [
            "Preprocessing complete. Data saved as .npy files.\n"
          ]
        }
      ]
    }
  ]
}
